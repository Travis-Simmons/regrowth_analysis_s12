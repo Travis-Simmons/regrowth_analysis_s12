{
 "cells": [
  {
   "cell_type": "code",
   "execution_count": null,
   "metadata": {},
   "outputs": [],
   "source": [
    "import geopandas as gpd\n",
    "import pandas as pd\n",
    "import collections"
   ]
  },
  {
   "cell_type": "code",
   "execution_count": null,
   "metadata": {},
   "outputs": [],
   "source": [
    "plots = gpd.read_file('season11_multi_latlon_geno.geojson')"
   ]
  },
  {
   "cell_type": "code",
   "execution_count": null,
   "metadata": {},
   "outputs": [],
   "source": [
    "\n",
    "# herbivory on 5/20/2021\n",
    "h1 = [5323,5322,5309,5114,5106,5102,4718,4615,4302,4220,4119,3707,3901,3606,3609,3604,3403,3412,3320,3319,3304,3303,3302,3223,3005,3004,3003,2920,2922,2923,2702,2704,2509,2517,2421,2407]\n",
    "\n",
    "# herbivory on 5/24/2021\n",
    "h2 = [2421,2419,2413,2409,2407,2402,2403,2509,2517,2619,2612,2603,2702,2704,2710,2704,2710,2904,2915,2920,2922,2923,3005,3004,3003,3102,3103,3113,3223,3302,3303,3304,3310,3319,3320,3412,3521,3624,3609,3715,3724,3907,3914,3920,4010,4009,4119,4121,4220,4217,4211,4302,4307,4324,4321,4618,4602,4708,4918,4820,5012,5107,5106,5114,5127,5222,5304,5308,5309,5311,5309,5308,5304]\n",
    "\n",
    "# herbivory on 6/01/2021\n",
    "h3 = [2421,2419,2413,2408,2407,2402,2503,2509,2517,2619,2603,2702,2704,2718,2904,2915,2920,2922,2923,3015,3005,3004,3003,3102,3103,3113,3223,3220,3207,3302,3303,3304,3310,3319,3320,3412,3406,3405,3403,3512,3521,3624,3609,3601,3702,3724,3902,3907,3914,3920,4009,4119,4121,4220,4217,4211,4302,4321,4324,4615,4612,4602,4608,4718,4820,4814,1941,5012,5002,5107,5106,5114,5122,5222,5203,5308,5309,5322,5323]\n",
    "\n",
    "h4 = set(h1 + h2 + h3)\n",
    "\n",
    "\n"
   ]
  },
  {
   "cell_type": "code",
   "execution_count": null,
   "metadata": {},
   "outputs": [],
   "source": [
    "change_1 = abs(len(h1) - len(h2))\n",
    "change_2 = abs(len(h2) - len(h3))\n",
    "\n",
    "print(f'First day of recorded herbivory, {len(h1)} plots were affected. Four days later, {len(h2)} plots were affected. Increase : {change_1}' )\n",
    "print(f'Second day of recorded herbivory, {len(h2)} plots were affected. seven days later, {len(h2)} plots were affected. Increase : {change_2}' )\n",
    "\n"
   ]
  },
  {
   "cell_type": "code",
   "execution_count": null,
   "metadata": {},
   "outputs": [],
   "source": [
    "plots"
   ]
  },
  {
   "cell_type": "code",
   "execution_count": null,
   "metadata": {},
   "outputs": [],
   "source": [
    "geno_dict = dict(zip(plots['ID'], plots['genotype']))"
   ]
  },
  {
   "cell_type": "code",
   "execution_count": null,
   "metadata": {},
   "outputs": [],
   "source": [
    "df1 = pd.DataFrame(h1,columns=['plot_id'])\n",
    "\n",
    "df1 = df1.astype(str)\n",
    "df1['geno'] = df1[\"plot_id\"].map(geno_dict)\n",
    "counter=collections.Counter(df1['geno']);counter"
   ]
  },
  {
   "cell_type": "code",
   "execution_count": null,
   "metadata": {},
   "outputs": [],
   "source": [
    "df2 = pd.DataFrame(h2,columns=['plot_id'])\n",
    "\n",
    "df2 = df2.astype(str)\n",
    "df2['geno'] = df2[\"plot_id\"].map(geno_dict)\n",
    "counter=collections.Counter(df2['geno']);counter"
   ]
  },
  {
   "cell_type": "code",
   "execution_count": null,
   "metadata": {},
   "outputs": [],
   "source": [
    "df3 = pd.DataFrame(h3,columns=['plot_id'])\n",
    "\n",
    "df3 = df3.astype(str)\n",
    "df3['geno'] = df3[\"plot_id\"].map(geno_dict)\n",
    "counter=collections.Counter(df3['geno']);counter"
   ]
  },
  {
   "cell_type": "code",
   "execution_count": null,
   "metadata": {},
   "outputs": [],
   "source": [
    "df4 = pd.DataFrame(h4,columns=['plot_id'])\n",
    "\n",
    "df4 = df4.astype(str)\n",
    "df4['geno'] = df4[\"plot_id\"].map(geno_dict)\n",
    "counter=collections.Counter(df4['geno']);counter"
   ]
  },
  {
   "cell_type": "code",
   "execution_count": null,
   "metadata": {},
   "outputs": [],
   "source": [
    "print(counter.most_common(5))"
   ]
  },
  {
   "cell_type": "code",
   "execution_count": null,
   "metadata": {},
   "outputs": [],
   "source": []
  }
 ],
 "metadata": {
  "kernelspec": {
   "display_name": "Python 3.8.5 64-bit ('general': conda)",
   "name": "python385jvsc74a57bd066fd99cc653260adf426bf328db08d1b55b377c06d9b72100938088d40231a18"
  },
  "language_info": {
   "codemirror_mode": {
    "name": "ipython",
    "version": 3
   },
   "file_extension": ".py",
   "mimetype": "text/x-python",
   "name": "python",
   "nbconvert_exporter": "python",
   "pygments_lexer": "ipython3",
   "version": "3.8.5"
  },
  "orig_nbformat": 2
 },
 "nbformat": 4,
 "nbformat_minor": 2
}
